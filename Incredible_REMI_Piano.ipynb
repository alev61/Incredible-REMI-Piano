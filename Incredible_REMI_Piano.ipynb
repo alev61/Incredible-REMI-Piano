{
  "nbformat": 4,
  "nbformat_minor": 0,
  "metadata": {
    "colab": {
      "name": "Incredible-REMI-Piano.ipynb",
      "provenance": [],
      "collapsed_sections": [],
      "authorship_tag": "ABX9TyMcuu0AFQ3XaMca3gaQX7Un",
      "include_colab_link": true
    },
    "kernelspec": {
      "name": "python3",
      "display_name": "Python 3"
    },
    "accelerator": "GPU"
  },
  "cells": [
    {
      "cell_type": "markdown",
      "metadata": {
        "id": "view-in-github",
        "colab_type": "text"
      },
      "source": [
        "<a href=\"https://colab.research.google.com/github/asigalov61/Incredible-REMI-Piano/blob/master/Incredible_REMI_Piano.ipynb\" target=\"_parent\"><img src=\"https://colab.research.google.com/assets/colab-badge.svg\" alt=\"Open In Colab\"/></a>"
      ]
    },
    {
      "cell_type": "markdown",
      "metadata": {
        "id": "i3NvE0ypE_FH",
        "colab_type": "text"
      },
      "source": [
        "Try REMI Pop Music Transformer yourself with this simple Google Colab"
      ]
    },
    {
      "cell_type": "code",
      "metadata": {
        "id": "n4eb266ok6NP",
        "colab_type": "code",
        "colab": {}
      },
      "source": [
        "%tensorflow_version 1.x\n",
        "!pip install gast==0.2.2\n",
        "!pip install tensorflow-gpu==1.14.0\n",
        "!pip install keras\n",
        "!pip install miditoolkit\n",
        "!git clone https://github.com/asigalov61/remi.git"
      ],
      "execution_count": null,
      "outputs": []
    },
    {
      "cell_type": "code",
      "metadata": {
        "id": "7hqLaVuvnZAV",
        "colab_type": "code",
        "colab": {}
      },
      "source": [
        "import os\n",
        "os.environ['CUDA_VISIBLE_DEVICES'] = '0'\n",
        "os.chdir('remi')\n",
        "from model import PopMusicTransformer\n",
        "from glob import glob"
      ],
      "execution_count": null,
      "outputs": []
    },
    {
      "cell_type": "code",
      "metadata": {
        "id": "JleK3KpZuGrn",
        "colab_type": "code",
        "colab": {}
      },
      "source": [
        "!wget 'https://incredibleremipiano.s3-us-west-1.amazonaws.com/REMI-tempo-checkpoint.zip'\n",
        "!unzip 'REMI-tempo-checkpoint.zip'"
      ],
      "execution_count": null,
      "outputs": []
    },
    {
      "cell_type": "code",
      "metadata": {
        "id": "D9eoq7tmt-wn",
        "colab_type": "code",
        "colab": {}
      },
      "source": [
        "model = PopMusicTransformer(checkpoint='REMI-tempo-checkpoint', is_training=False)"
      ],
      "execution_count": null,
      "outputs": []
    },
    {
      "cell_type": "code",
      "metadata": {
        "id": "7-cF8y6v6M9s",
        "colab_type": "code",
        "colab": {}
      },
      "source": [
        "    # generate from scratch\n",
        "    model.generate(\n",
        "        n_target_bar=8,\n",
        "        temperature=0.8,\n",
        "        topk=1,\n",
        "        output_path='./result/from_scratch.midi',\n",
        "        prompt=None)"
      ],
      "execution_count": null,
      "outputs": []
    },
    {
      "cell_type": "code",
      "metadata": {
        "id": "yMv13kM46PZo",
        "colab_type": "code",
        "colab": {}
      },
      "source": [
        "    # generate continuation\n",
        "    model.generate(\n",
        "        n_target_bar=8,\n",
        "        temperature=0.8,\n",
        "        topk=1,\n",
        "        output_path='./result/continuation.midi',\n",
        "        prompt='/content/remi/prompt1.mid')"
      ],
      "execution_count": null,
      "outputs": []
    },
    {
      "cell_type": "code",
      "metadata": {
        "id": "vwhF84aICEVk",
        "colab_type": "code",
        "colab": {}
      },
      "source": [
        "# close model\n",
        "model.close()"
      ],
      "execution_count": null,
      "outputs": []
    },
    {
      "cell_type": "markdown",
      "metadata": {
        "id": "XEGbomSoXLXN",
        "colab_type": "text"
      },
      "source": [
        "###Finetuning"
      ]
    },
    {
      "cell_type": "code",
      "metadata": {
        "id": "xRW3pvbyq_Eq",
        "colab_type": "code",
        "colab": {}
      },
      "source": [
        "#@title Alex Piano Only Drafts Original 1500 MIDIs \n",
        "!wget 'https://github.com/asigalov61/AlexMIDIDataSet/raw/master/AlexMIDIDataSet-CC-BY-NC-SA-All-Drafts-Piano-Only.zip'\n",
        "!unzip -j 'AlexMIDIDataSet-CC-BY-NC-SA-All-Drafts-Piano-Only.zip'"
      ],
      "execution_count": null,
      "outputs": []
    },
    {
      "cell_type": "code",
      "metadata": {
        "id": "0M1AfIX_XP5b",
        "colab_type": "code",
        "colab": {}
      },
      "source": [
        "    # declare model\n",
        "    model = PopMusicTransformer(\n",
        "        checkpoint='REMI-tempo-checkpoint',\n",
        "        is_training=True)\n",
        "    # prepare data\n",
        "    midi_paths = glob('/content/remi/*.mid') # you need to revise it\n",
        "    training_data = model.prepare_data(midi_paths=midi_paths)\n",
        "\n",
        "    # check output checkpoint folder\n",
        "    ####################################\n",
        "    # if you use \"REMI-tempo-chord-checkpoint\" for the pre-trained checkpoint\n",
        "    # please name your output folder as something with \"chord\"\n",
        "    # for example: my-love-chord, cute-doggy-chord, ...\n",
        "    # if use \"REMI-tempo-checkpoint\"\n",
        "    # for example: my-love, cute-doggy, ...\n",
        "    ####################################\n",
        "    output_checkpoint_folder = 'REMI-finetune' # your decision\n",
        "    if not os.path.exists(output_checkpoint_folder):\n",
        "        os.mkdir(output_checkpoint_folder)\n",
        "    \n",
        "    # finetune\n",
        "    model.finetune(\n",
        "        training_data=training_data,\n",
        "        output_checkpoint_folder=output_checkpoint_folder)\n",
        "\n",
        "    ####################################\n",
        "    # after finetuning, please choose which checkpoint you want to try\n",
        "    # and change the checkpoint names you choose into \"model\"\n",
        "    # and copy the \"dictionary.pkl\" into the your output_checkpoint_folder\n",
        "    # ***** the same as the content format in \"REMI-tempo-checkpoint\" *****\n",
        "    # and then, you can use \"main.py\" to generate your own music!\n",
        "    # (do not forget to revise the checkpoint path to your own in \"main.py\")\n",
        "    ####################################\n",
        "\n",
        "    # close\n",
        "    model.close()"
      ],
      "execution_count": null,
      "outputs": []
    }
  ]
}